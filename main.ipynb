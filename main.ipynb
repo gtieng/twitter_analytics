{
 "cells": [
  {
   "cell_type": "markdown",
   "metadata": {},
   "source": [
    "## Import Libraries & Data"
   ]
  },
  {
   "cell_type": "code",
   "execution_count": 24,
   "metadata": {},
   "outputs": [],
   "source": [
    "import pandas as pd\n",
    "import numpy as np\n",
    "import matplotlib.pyplot as plt\n",
    "import re\n",
    "import datetime as dt\n",
    "%matplotlib inline"
   ]
  },
  {
   "cell_type": "code",
   "execution_count": 2,
   "metadata": {},
   "outputs": [],
   "source": [
    "gerard = pd.read_csv(\"data/gerardtieng_2019_1.csv\")"
   ]
  },
  {
   "cell_type": "code",
   "execution_count": 3,
   "metadata": {},
   "outputs": [
    {
     "data": {
      "text/html": [
       "<div>\n",
       "<style scoped>\n",
       "    .dataframe tbody tr th:only-of-type {\n",
       "        vertical-align: middle;\n",
       "    }\n",
       "\n",
       "    .dataframe tbody tr th {\n",
       "        vertical-align: top;\n",
       "    }\n",
       "\n",
       "    .dataframe thead th {\n",
       "        text-align: right;\n",
       "    }\n",
       "</style>\n",
       "<table border=\"1\" class=\"dataframe\">\n",
       "  <thead>\n",
       "    <tr style=\"text-align: right;\">\n",
       "      <th></th>\n",
       "      <th>Tweet id</th>\n",
       "      <th>Tweet permalink</th>\n",
       "      <th>Tweet text</th>\n",
       "      <th>time</th>\n",
       "      <th>impressions</th>\n",
       "      <th>engagements</th>\n",
       "      <th>engagement rate</th>\n",
       "      <th>retweets</th>\n",
       "      <th>replies</th>\n",
       "      <th>likes</th>\n",
       "      <th>...</th>\n",
       "      <th>promoted hashtag clicks</th>\n",
       "      <th>promoted detail expands</th>\n",
       "      <th>promoted permalink clicks</th>\n",
       "      <th>promoted app opens</th>\n",
       "      <th>promoted app installs</th>\n",
       "      <th>promoted follows</th>\n",
       "      <th>promoted email tweet</th>\n",
       "      <th>promoted dial phone</th>\n",
       "      <th>promoted media views</th>\n",
       "      <th>promoted media engagements</th>\n",
       "    </tr>\n",
       "  </thead>\n",
       "  <tbody>\n",
       "    <tr>\n",
       "      <td>0</td>\n",
       "      <td>1091095912330551297</td>\n",
       "      <td>https://twitter.com/gerardtieng/status/1091095...</td>\n",
       "      <td>@JonathanBice77 https://t.co/wXF61ipAc5</td>\n",
       "      <td>2019-01-31 22:08 +0000</td>\n",
       "      <td>312.0</td>\n",
       "      <td>1.0</td>\n",
       "      <td>0.003205</td>\n",
       "      <td>0.0</td>\n",
       "      <td>1.0</td>\n",
       "      <td>0.0</td>\n",
       "      <td>...</td>\n",
       "      <td>-</td>\n",
       "      <td>-</td>\n",
       "      <td>-</td>\n",
       "      <td>-</td>\n",
       "      <td>-</td>\n",
       "      <td>-</td>\n",
       "      <td>-</td>\n",
       "      <td>-</td>\n",
       "      <td>-</td>\n",
       "      <td>-</td>\n",
       "    </tr>\n",
       "    <tr>\n",
       "      <td>1</td>\n",
       "      <td>1091057556506722305</td>\n",
       "      <td>https://twitter.com/gerardtieng/status/1091057...</td>\n",
       "      <td>Nobody asked for Cool Ranch Doritos like nobod...</td>\n",
       "      <td>2019-01-31 19:36 +0000</td>\n",
       "      <td>547.0</td>\n",
       "      <td>7.0</td>\n",
       "      <td>0.012797</td>\n",
       "      <td>0.0</td>\n",
       "      <td>2.0</td>\n",
       "      <td>1.0</td>\n",
       "      <td>...</td>\n",
       "      <td>-</td>\n",
       "      <td>-</td>\n",
       "      <td>-</td>\n",
       "      <td>-</td>\n",
       "      <td>-</td>\n",
       "      <td>-</td>\n",
       "      <td>-</td>\n",
       "      <td>-</td>\n",
       "      <td>-</td>\n",
       "      <td>-</td>\n",
       "    </tr>\n",
       "    <tr>\n",
       "      <td>2</td>\n",
       "      <td>1091026622105509888</td>\n",
       "      <td>https://twitter.com/gerardtieng/status/1091026...</td>\n",
       "      <td>@LAValiant @SeoulDynasty @Spitfire 👁👁</td>\n",
       "      <td>2019-01-31 17:33 +0000</td>\n",
       "      <td>140.0</td>\n",
       "      <td>0.0</td>\n",
       "      <td>0.000000</td>\n",
       "      <td>0.0</td>\n",
       "      <td>0.0</td>\n",
       "      <td>0.0</td>\n",
       "      <td>...</td>\n",
       "      <td>-</td>\n",
       "      <td>-</td>\n",
       "      <td>-</td>\n",
       "      <td>-</td>\n",
       "      <td>-</td>\n",
       "      <td>-</td>\n",
       "      <td>-</td>\n",
       "      <td>-</td>\n",
       "      <td>-</td>\n",
       "      <td>-</td>\n",
       "    </tr>\n",
       "    <tr>\n",
       "      <td>3</td>\n",
       "      <td>1090784520847220736</td>\n",
       "      <td>https://twitter.com/gerardtieng/status/1090784...</td>\n",
       "      <td>@jennbojones https://t.co/alE3oViCC1</td>\n",
       "      <td>2019-01-31 01:31 +0000</td>\n",
       "      <td>181.0</td>\n",
       "      <td>1.0</td>\n",
       "      <td>0.005525</td>\n",
       "      <td>0.0</td>\n",
       "      <td>1.0</td>\n",
       "      <td>0.0</td>\n",
       "      <td>...</td>\n",
       "      <td>-</td>\n",
       "      <td>-</td>\n",
       "      <td>-</td>\n",
       "      <td>-</td>\n",
       "      <td>-</td>\n",
       "      <td>-</td>\n",
       "      <td>-</td>\n",
       "      <td>-</td>\n",
       "      <td>-</td>\n",
       "      <td>-</td>\n",
       "    </tr>\n",
       "    <tr>\n",
       "      <td>4</td>\n",
       "      <td>1090783481192501249</td>\n",
       "      <td>https://twitter.com/gerardtieng/status/1090783...</td>\n",
       "      <td>@jennbojones Welcome to #TeamSCUF.</td>\n",
       "      <td>2019-01-31 01:27 +0000</td>\n",
       "      <td>205.0</td>\n",
       "      <td>2.0</td>\n",
       "      <td>0.009756</td>\n",
       "      <td>0.0</td>\n",
       "      <td>1.0</td>\n",
       "      <td>0.0</td>\n",
       "      <td>...</td>\n",
       "      <td>-</td>\n",
       "      <td>-</td>\n",
       "      <td>-</td>\n",
       "      <td>-</td>\n",
       "      <td>-</td>\n",
       "      <td>-</td>\n",
       "      <td>-</td>\n",
       "      <td>-</td>\n",
       "      <td>-</td>\n",
       "      <td>-</td>\n",
       "    </tr>\n",
       "  </tbody>\n",
       "</table>\n",
       "<p>5 rows × 40 columns</p>\n",
       "</div>"
      ],
      "text/plain": [
       "              Tweet id                                    Tweet permalink  \\\n",
       "0  1091095912330551297  https://twitter.com/gerardtieng/status/1091095...   \n",
       "1  1091057556506722305  https://twitter.com/gerardtieng/status/1091057...   \n",
       "2  1091026622105509888  https://twitter.com/gerardtieng/status/1091026...   \n",
       "3  1090784520847220736  https://twitter.com/gerardtieng/status/1090784...   \n",
       "4  1090783481192501249  https://twitter.com/gerardtieng/status/1090783...   \n",
       "\n",
       "                                          Tweet text                    time  \\\n",
       "0            @JonathanBice77 https://t.co/wXF61ipAc5  2019-01-31 22:08 +0000   \n",
       "1  Nobody asked for Cool Ranch Doritos like nobod...  2019-01-31 19:36 +0000   \n",
       "2              @LAValiant @SeoulDynasty @Spitfire 👁👁  2019-01-31 17:33 +0000   \n",
       "3               @jennbojones https://t.co/alE3oViCC1  2019-01-31 01:31 +0000   \n",
       "4                 @jennbojones Welcome to #TeamSCUF.  2019-01-31 01:27 +0000   \n",
       "\n",
       "   impressions  engagements  engagement rate  retweets  replies  likes  ...  \\\n",
       "0        312.0          1.0         0.003205       0.0      1.0    0.0  ...   \n",
       "1        547.0          7.0         0.012797       0.0      2.0    1.0  ...   \n",
       "2        140.0          0.0         0.000000       0.0      0.0    0.0  ...   \n",
       "3        181.0          1.0         0.005525       0.0      1.0    0.0  ...   \n",
       "4        205.0          2.0         0.009756       0.0      1.0    0.0  ...   \n",
       "\n",
       "   promoted hashtag clicks  promoted detail expands  \\\n",
       "0                        -                        -   \n",
       "1                        -                        -   \n",
       "2                        -                        -   \n",
       "3                        -                        -   \n",
       "4                        -                        -   \n",
       "\n",
       "   promoted permalink clicks  promoted app opens  promoted app installs  \\\n",
       "0                          -                   -                      -   \n",
       "1                          -                   -                      -   \n",
       "2                          -                   -                      -   \n",
       "3                          -                   -                      -   \n",
       "4                          -                   -                      -   \n",
       "\n",
       "   promoted follows  promoted email tweet  promoted dial phone  \\\n",
       "0                 -                     -                    -   \n",
       "1                 -                     -                    -   \n",
       "2                 -                     -                    -   \n",
       "3                 -                     -                    -   \n",
       "4                 -                     -                    -   \n",
       "\n",
       "   promoted media views  promoted media engagements  \n",
       "0                     -                           -  \n",
       "1                     -                           -  \n",
       "2                     -                           -  \n",
       "3                     -                           -  \n",
       "4                     -                           -  \n",
       "\n",
       "[5 rows x 40 columns]"
      ]
     },
     "execution_count": 3,
     "metadata": {},
     "output_type": "execute_result"
    }
   ],
   "source": [
    "gerard.head()"
   ]
  },
  {
   "cell_type": "code",
   "execution_count": 6,
   "metadata": {},
   "outputs": [],
   "source": [
    "for i in np.arange(2, 13):\n",
    "    df = pd.read_csv(\"data/gerardtieng_2019_{}.csv\".format(i))\n",
    "    gerard = pd.concat([gerard, df])"
   ]
  },
  {
   "cell_type": "code",
   "execution_count": 10,
   "metadata": {},
   "outputs": [
    {
     "data": {
      "text/plain": [
       "(2040, 40)"
      ]
     },
     "execution_count": 10,
     "metadata": {},
     "output_type": "execute_result"
    }
   ],
   "source": [
    "gerard.shape"
   ]
  },
  {
   "cell_type": "markdown",
   "metadata": {},
   "source": [
    "## Data Selection"
   ]
  },
  {
   "cell_type": "code",
   "execution_count": 16,
   "metadata": {},
   "outputs": [
    {
     "data": {
      "text/plain": [
       "Index(['Tweet id', 'Tweet permalink', 'Tweet text', 'time', 'impressions',\n",
       "       'engagements', 'engagement rate', 'retweets', 'replies', 'likes',\n",
       "       'user profile clicks', 'url clicks', 'hashtag clicks', 'detail expands',\n",
       "       'permalink clicks', 'app opens', 'app installs', 'follows',\n",
       "       'email tweet', 'dial phone', 'media views', 'media engagements',\n",
       "       'promoted impressions', 'promoted engagements',\n",
       "       'promoted engagement rate', 'promoted retweets', 'promoted replies',\n",
       "       'promoted likes', 'promoted user profile clicks', 'promoted url clicks',\n",
       "       'promoted hashtag clicks', 'promoted detail expands',\n",
       "       'promoted permalink clicks', 'promoted app opens',\n",
       "       'promoted app installs', 'promoted follows', 'promoted email tweet',\n",
       "       'promoted dial phone', 'promoted media views',\n",
       "       'promoted media engagements'],\n",
       "      dtype='object')"
      ]
     },
     "execution_count": 16,
     "metadata": {},
     "output_type": "execute_result"
    }
   ],
   "source": [
    "gerard.columns"
   ]
  },
  {
   "cell_type": "code",
   "execution_count": 20,
   "metadata": {},
   "outputs": [],
   "source": [
    "gerard = gerard[[\"Tweet permalink\", \"Tweet text\", \"time\", \"impressions\", \"engagements\", \"retweets\", \"replies\", \"likes\", \"user profile clicks\"]].copy()"
   ]
  },
  {
   "cell_type": "code",
   "execution_count": 21,
   "metadata": {},
   "outputs": [],
   "source": [
    "gerard[\"time\"] = pd.to_datetime(gerard[\"time\"])"
   ]
  },
  {
   "cell_type": "code",
   "execution_count": 25,
   "metadata": {},
   "outputs": [],
   "source": [
    "gerard[\"hour\"] = gerard[\"time\"].dt.hour\n",
    "gerard[\"month\"] = gerard[\"time\"].dt.month\n",
    "gerard[\"dayofweek\"] = gerard[\"time\"].dt.dayofweek"
   ]
  },
  {
   "cell_type": "code",
   "execution_count": 38,
   "metadata": {},
   "outputs": [],
   "source": [
    "gerard_tweets = gerard[~gerard[\"Tweet text\"].str.startswith(\"@\")]\n",
    "gerard_replies = gerard[gerard[\"Tweet text\"].str.startswith(\"@\")]"
   ]
  },
  {
   "cell_type": "markdown",
   "metadata": {},
   "source": [
    "## Activity Summary"
   ]
  },
  {
   "cell_type": "code",
   "execution_count": 68,
   "metadata": {},
   "outputs": [],
   "source": [
    "hour_activity = gerard_tweets.groupby(\"hour\").count()"
   ]
  },
  {
   "cell_type": "code",
   "execution_count": 91,
   "metadata": {},
   "outputs": [
    {
     "data": {
      "image/png": "[encoded data removed]",
      "text/plain": [
       "<Figure size 1080x432 with 1 Axes>"
      ]
     },
     "metadata": {
      "needs_background": "light"
     },
     "output_type": "display_data"
    }
   ],
   "source": [
    "plt.figure(figsize=(15,6))\n",
    "plt.bar(hour_activity.index, hour_activity[\"Tweet permalink\"], tick_label=hour_activity.index)\n",
    "plt.xlabel(\"hour\")\n",
    "plt.ylabel(\"tweets\")\n",
    "plt.title(f\"Tweet Activity by Hour\")\n",
    "plt.show()"
   ]
  },
  {
   "cell_type": "code",
   "execution_count": 70,
   "metadata": {},
   "outputs": [],
   "source": [
    "day_activity = gerard_tweets.groupby(\"dayofweek\").count()"
   ]
  },
  {
   "cell_type": "code",
   "execution_count": 71,
   "metadata": {},
   "outputs": [
    {
     "data": {
      "image/png": "[encoded data removed]",
      "text/plain": [
       "<Figure size 1080x432 with 1 Axes>"
      ]
     },
     "metadata": {
      "needs_background": "light"
     },
     "output_type": "display_data"
    }
   ],
   "source": [
    "plt.figure(figsize=(15,6))\n",
    "plt.bar(day_activity.index, day_activity[\"Tweet permalink\"])\n",
    "plt.xlabel(\"day\")\n",
    "plt.ylabel(\"tweets\")\n",
    "plt.title(f\"Tweet Activity by Hour\")\n",
    "plt.show()"
   ]
  },
  {
   "cell_type": "code",
   "execution_count": 72,
   "metadata": {},
   "outputs": [],
   "source": [
    "month_activity = gerard_tweets.groupby(\"month\").count()"
   ]
  },
  {
   "cell_type": "code",
   "execution_count": 92,
   "metadata": {},
   "outputs": [
    {
     "data": {
      "image/png": "[encoded data removed]",
      "text/plain": [
       "<Figure size 1080x432 with 1 Axes>"
      ]
     },
     "metadata": {
      "needs_background": "light"
     },
     "output_type": "display_data"
    }
   ],
   "source": [
    "plt.figure(figsize=(15,6))\n",
    "plt.bar(month_activity.index, month_activity[\"Tweet permalink\"], tick_label=month_activity.index)\n",
    "plt.xlabel(\"month\")\n",
    "plt.ylabel(\"tweets\")\n",
    "plt.title(f\"Tweet Activity by Month\")\n",
    "plt.show()"
   ]
  },
  {
   "cell_type": "markdown",
   "metadata": {},
   "source": [
    "## Engagement Summary"
   ]
  },
  {
   "cell_type": "code",
   "execution_count": 51,
   "metadata": {},
   "outputs": [
    {
     "data": {
      "text/plain": [
       "impressions            276277.0\n",
       "engagements              9487.0\n",
       "retweets                   88.0\n",
       "likes                    1735.0\n",
       "replies                   456.0\n",
       "user profile clicks       690.0\n",
       "dtype: float64"
      ]
     },
     "execution_count": 51,
     "metadata": {},
     "output_type": "execute_result"
    }
   ],
   "source": [
    "gerard_tweets[[\"impressions\", \"engagements\", \"retweets\", \"likes\", \"replies\", \"user profile clicks\"]].sum()"
   ]
  },
  {
   "cell_type": "code",
   "execution_count": 50,
   "metadata": {},
   "outputs": [
    {
     "data": {
      "text/plain": [
       "impressions            333.265380\n",
       "engagements             11.443908\n",
       "retweets                 0.106152\n",
       "likes                    2.092883\n",
       "replies                  0.550060\n",
       "user profile clicks      0.832328\n",
       "dtype: float64"
      ]
     },
     "execution_count": 50,
     "metadata": {},
     "output_type": "execute_result"
    }
   ],
   "source": [
    "gerard_tweets[[\"impressions\", \"engagements\", \"retweets\", \"likes\", \"replies\", \"user profile clicks\"]].sum() / gerard_tweets.shape[0]"
   ]
  },
  {
   "cell_type": "code",
   "execution_count": 155,
   "metadata": {},
   "outputs": [
    {
     "data": {
      "text/plain": [
       "Text(0.5,1,'replies by month')"
      ]
     },
     "execution_count": 155,
     "metadata": {},
     "output_type": "execute_result"
    },
    {
     "data": {
      "image/png": "[encoded data removed]",
      "text/plain": [
       "<Figure size 1080x720 with 4 Axes>"
      ]
     },
     "metadata": {
      "needs_background": "light"
     },
     "output_type": "display_data"
    }
   ],
   "source": [
    "month_engagement = gerard_tweets.groupby(\"month\").sum()\n",
    "\n",
    "fig, ax = plt.subplots(2,2, figsize=(15,10))\n",
    "ax[0,0].bar(month_engagement.index, month_engagement[\"impressions\"], tick_label=month_engagement.index, color=\"blue\")\n",
    "ax[0,0].set_title(\"impressions by month\")\n",
    "ax[0,1].bar(month_engagement.index, month_engagement[\"likes\"], tick_label=month_engagement.index, color=\"red\")\n",
    "ax[0,1].set_title(\"likes by month\")\n",
    "ax[1,0].bar(month_engagement.index, month_engagement[\"retweets\"], tick_label=month_engagement.index, color=\"green\")\n",
    "ax[1,0].set_title(\"retweets by month\")\n",
    "ax[1,1].bar(month_engagement.index, month_engagement[\"replies\"], tick_label=month_engagement.index, color=\"orange\")\n",
    "ax[1,1].set_title(\"replies by month\")"
   ]
  },
  {
   "cell_type": "code",
   "execution_count": 159,
   "metadata": {},
   "outputs": [
    {
     "data": {
      "text/plain": [
       "Text(0.5,1,'replies by day')"
      ]
     },
     "execution_count": 159,
     "metadata": {},
     "output_type": "execute_result"
    },
    {
     "data": {
      "image/png": "[encoded data removed]",
      "text/plain": [
       "<Figure size 1080x720 with 4 Axes>"
      ]
     },
     "metadata": {
      "needs_background": "light"
     },
     "output_type": "display_data"
    }
   ],
   "source": [
    "day_engagement = gerard_tweets.groupby(\"dayofweek\").sum()\n",
    "\n",
    "fig, ax = plt.subplots(2,2, figsize=(15,10))\n",
    "ax[0,0].bar(day_engagement.index, day_engagement[\"impressions\"], tick_label=day_engagement.index, color=\"blue\")\n",
    "ax[0,0].set_title(\"impressions by day\")\n",
    "ax[0,1].bar(day_engagement.index, day_engagement[\"likes\"], tick_label=day_engagement.index, color=\"red\")\n",
    "ax[0,1].set_title(\"likes by day\")\n",
    "ax[1,0].bar(day_engagement.index, day_engagement[\"retweets\"], tick_label=day_engagement.index, color=\"green\")\n",
    "ax[1,0].set_title(\"retweets by day\")\n",
    "ax[1,1].bar(day_engagement.index, day_engagement[\"replies\"], tick_label=day_engagement.index, color=\"orange\")\n",
    "ax[1,1].set_title(\"replies by day\")\n"
   ]
  },
  {
   "cell_type": "code",
   "execution_count": null,
   "metadata": {},
   "outputs": [],
   "source": [
    "hour_engagement = gerard_tweets.groupby(\"hour\").sum()\n",
    "\n",
    "fig, ax = plt.subplots(2,2, figsize=(15,10))\n",
    "ax[0,0].bar(hour_engagement.index, hour_engagement[\"impressions\"], tick_label=hour_engagement.index, color=\"blue\")\n",
    "ax[0,0].set_title(\"impressions by hour\")\n",
    "ax[0,1].bar(hour_engagement.index, hour_engagement[\"likes\"], tick_label=hour_engagement.index, color=\"red\")\n",
    "ax[0,1].set_title(\"likes by hour\")\n",
    "ax[1,0].bar(hour_engagement.index, hour_engagement[\"retweets\"], tick_label=hour_engagement.index, color=\"green\")\n",
    "ax[1,0].set_title(\"retweets by hour\")\n",
    "ax[1,1].bar(hour_engagement.index, day_engagement[\"replies\"], tick_label=day_engagement.index, color=\"orange\")\n",
    "ax[1,1].set_title(\"replies by day\")"
   ]
  }
 ],
 "metadata": {
  "kernelspec": {
   "display_name": "Python 3",
   "language": "python",
   "name": "python3"
  },
  "language_info": {
   "codemirror_mode": {
    "name": "ipython",
    "version": 3
   },
   "file_extension": ".py",
   "mimetype": "text/x-python",
   "name": "python",
   "nbconvert_exporter": "python",
   "pygments_lexer": "ipython3",
   "version": "3.7.4"
  }
 },
 "nbformat": 4,
 "nbformat_minor": 2
}
